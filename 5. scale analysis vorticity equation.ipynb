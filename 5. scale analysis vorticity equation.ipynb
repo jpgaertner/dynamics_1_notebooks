{
 "cells": [
  {
   "cell_type": "code",
   "execution_count": null,
   "id": "ccca45c4",
   "metadata": {},
   "outputs": [],
   "source": [
    "import xarray as xr\n",
    "import matplotlib.pyplot as plt\n",
    "import cartopy.crs as ccrs\n",
    "import cartopy.feature as cf\n",
    "import numpy as np\n",
    "import os"
   ]
  },
  {
   "cell_type": "code",
   "execution_count": null,
   "id": "56fb0603",
   "metadata": {},
   "outputs": [],
   "source": [
    "# import fields and grid\n",
    "\n",
    "%store -r fields\n",
    "[uWind,vWind,wWind,temp,geop,div,vort,geop_height] = fields\n",
    "\n",
    "%store -r month\n",
    "\n",
    "script_dir = os.path.dirname(__name__)\n",
    "rel_path = f'files/2020_{month}_01_hourly.nc'\n",
    "abs_file_path = os.path.join(script_dir, rel_path)\n",
    "rel_path_surf = f'files/2020_{month}_01_hourly_surf.nc'\n",
    "abs_file_path_surf = os.path.join(script_dir, rel_path_surf)\n",
    "\n",
    "data = xr.open_dataset(abs_file_path)\n",
    "rel_hum = data['r']\n",
    "lon = data.longitude\n",
    "lat = data.latitude\n",
    "pressure_levels = np.array(data.level)*100"
   ]
  },
  {
   "cell_type": "code",
   "execution_count": null,
   "id": "454b25dd",
   "metadata": {},
   "outputs": [],
   "source": [
    "# for calculating the gradient of a given field, first the distance between\n",
    "# grid points is converted to metres. the distance in meridional direction is\n",
    "# constant (deg_to_m) but varies in zonal direction depending on the latitude (dist)\n",
    "\n",
    "deg_to_m = 111120\n",
    "\n",
    "dist = np.array(deg_to_m * np.cos(np.deg2rad(lat)))\n",
    "dist = np.swapaxes(np.tile(dist,[len(lon),1]),0,1)\n",
    "\n",
    "def grad(field):\n",
    "    '''this function calculates the gradient of field'''\n",
    "    grad = np.zeros((2,*temp.isel(time=0).shape))\n",
    "    \n",
    "    for j in range(1,len(field.latitude)-1):\n",
    "        grad[1,:,j,:] = - 1 / (2 * deg_to_m) * (field.isel(time=1)[:,j+1,:] - field.isel(time=1)[:,j-1,:])\n",
    "    grad[1,:,0,:] = - 1 / deg_to_m * (field.isel(time=1)[:,1,:] - field.isel(time=1)[:,0,:])\n",
    "    grad[1,:,-1,:] = - 1 / deg_to_m * (field.isel(time=1)[:,-1,:] - field.isel(time=1)[:,-2,:])\n",
    "    \n",
    "    for i in range(1,len(field.longitude)-1):\n",
    "        grad[0,:,:,i] = 1 / (2 * dist[:,i]) * (field.isel(time=1)[:,:,i+1] - field.isel(time=1)[:,:,i-1])\n",
    "    grad[0,:,:,0] = 1 / dist[:,0] * (field.isel(time=1)[:,:,1] - field.isel(time=1)[:,:,0])\n",
    "    grad[0,:,:,-1] = 1 / dist[:,-1] * (field.isel(time=1)[:,:,-1] - field.isel(time=1)[:,:,-2])\n",
    "    \n",
    "    return grad"
   ]
  },
  {
   "cell_type": "code",
   "execution_count": null,
   "id": "03ddfbe5",
   "metadata": {},
   "outputs": [],
   "source": [
    "# import coriolis parameter\n",
    "\n",
    "%store -r f"
   ]
  },
  {
   "cell_type": "code",
   "execution_count": null,
   "id": "12fa8df1",
   "metadata": {
    "scrolled": true
   },
   "outputs": [],
   "source": [
    "# for calculating the virtual temperature (used later in the calculation\n",
    "# of the air density) first the vapor pressure of water is calculated\n",
    "# using the clausius-clapeyron equation\n",
    "\n",
    "# some constants\n",
    "Lv = 2265e3 # latent heat of vaporization\n",
    "M = 28.9647e-3 # molar mass of air\n",
    "R = 8.314 # ideal gas constant\n",
    "T0 = 273.15 + 30 # a random reference temperature\n",
    "e0 = 4.2455 # the vapor pressure at the reference temperature\n",
    "\n",
    "# vapor pressure\n",
    "vap_press = e0 * np.exp(Lv * M * (temp - T0)/(R * T0 * temp))\n",
    "# partial pressure of water in air\n",
    "part_press = rel_hum * vap_press\n",
    "# virtual temperature\n",
    "temp_v = xr.zeros_like(temp)\n",
    "for i in range(len(pressure_levels)):\n",
    "    temp_v[:,i,:,:] = temp[:,i,:,:] / (1 - part_press[:,i,:,:]/pressure_levels[i] * (1 - 0.622))"
   ]
  },
  {
   "cell_type": "markdown",
   "id": "890ba899",
   "metadata": {},
   "source": [
    "The vorticity equation (neglecting friction) is\n",
    "\\begin{align}\n",
    "\\Leftrightarrow \\qquad \\dfrac{\\partial}{\\partial t} \\eta + \\pmb{u}_h \\nabla \\eta + w_p \\dfrac{\\partial}{\\partial p} \\eta &= - \\eta \\nabla \\pmb{u} - \\pmb{k} \\left( \\nabla w_p \\times \\dfrac{\\partial \\pmb{u}}{\\partial p} \\right) + \\rho \\pmb{k} ( \\nabla \\alpha \\times \\nabla \\Phi )\n",
    "\\end{align}\n",
    "with $\\nabla$ and $w_p$ given in pressure coordinates <br>\n",
    "The terms are (from left to right): local change of vorticity, horizontal vorticity advection, vertical vorticity advection, stretching of vortivity due to flow compressibility (ballerina effect), tilting term, and solenoid term"
   ]
  },
  {
   "cell_type": "code",
   "execution_count": null,
   "id": "2765aa65",
   "metadata": {},
   "outputs": [],
   "source": [
    "# calculate the individual terms of the vorticity equation\n",
    "\n",
    "# specific gas constant of air\n",
    "R_spec = 8.1343 / 0.0289647\n",
    "\n",
    "# absolute vorticity (in the following just called vorticity)\n",
    "eta = vort + f\n",
    "\n",
    "# calculate air density from ideal gas equation using the virtual temperature\n",
    "rho = xr.zeros_like(eta)\n",
    "for p in range(len(pressure_levels)):\n",
    "    rho[:,p,:,:] = pressure_levels[p] / (R_spec * temp_v[:,p,:,:])\n",
    "alpha = 1 / rho\n",
    "\n",
    "# local change of vorticity\n",
    "loc_change_eta = ( eta[2,:,:,:] - eta[0,:,:,:] ) / 7200\n",
    "\n",
    "# horizontal (i.e. on pressure levels) vorticity advection\n",
    "hor_adv_eta = uWind[1,:,:,:] * grad(eta)[0] + vWind[1,:,:,:] * grad(eta)[1]\n",
    "\n",
    "# vertical vorticity advection\n",
    "vert_adv_eta = xr.zeros_like(eta)\n",
    "for p in range(1,len(pressure_levels)):\n",
    "    vert_adv_eta[:,p,:,:] = wWind[:,p,:,:] * ( eta[:,p,:,:] - eta[:,p-1,:,:] ) \\\n",
    "                            / ( pressure_levels[p] - pressure_levels[p-1] )\n",
    "vert_adv_eta = vert_adv_eta[1,:,:,:]\n",
    "\n",
    "# ballerina effect\n",
    "ball_term = - eta[1,:,:,:] * ( grad(uWind)[0] + grad(vWind)[1] )\n",
    "\n",
    "# tilting term\n",
    "tilt_term = xr.zeros_like(eta)\n",
    "for p in range(1,len(pressure_levels)):\n",
    "    tilt_term[:,p,:,:] = - ( grad(wWind)[0,p,:,:] * (vWind[1,p,:,:] - vWind[1,p-1,:,:]) / (pressure_levels[p] - pressure_levels[p-1]) \\\n",
    "                           - grad(wWind)[1,p,:,:] * (uWind[1,p,:,:] - uWind[1,p-1,:,:]) / (pressure_levels[p] - pressure_levels[p-1]))\n",
    "tilt_term = tilt_term[1,:,:,:]\n",
    "\n",
    "# solenoid term\n",
    "sol_term = - rho[1,:,:,:] * (grad(alpha)[0] * grad(geop)[1] - grad(alpha)[1] * grad(geop)[0])\n",
    "sol_term = xr.DataArray(sol_term)"
   ]
  },
  {
   "cell_type": "code",
   "execution_count": null,
   "id": "e38d550a",
   "metadata": {},
   "outputs": [],
   "source": [
    "# add name and units to the fields (for plotting)\n",
    "\n",
    "eta.attrs['long_name'] = 'absolute vorticity'\n",
    "eta.attrs['units'] = 's**-1'\n",
    "loc_change_eta.attrs['long_name'] = 'local change of vorticity'\n",
    "loc_change_eta.attrs['units'] = 's**-1'\n",
    "hor_adv_eta.attrs['long_name'] = 'horizontal vorticity advection'\n",
    "hor_adv_eta.attrs['units'] = 's**-1'\n",
    "vert_adv_eta.attrs['long_name'] = 'vertical vorticity advection'\n",
    "vert_adv_eta.attrs['units'] = 's**-1'\n",
    "ball_term.attrs['long_name'] = 'ballerina effect'\n",
    "ball_term.attrs['units'] = 's**-1'\n",
    "tilt_term.attrs['long_name'] = 'tilting term'\n",
    "tilt_term.attrs['units'] = 's**-1'\n",
    "sol_term.attrs['long_name'] = 'solenoid term'\n",
    "sol_term.attrs['units'] = 's**-1'"
   ]
  },
  {
   "cell_type": "code",
   "execution_count": null,
   "id": "f7035c74",
   "metadata": {},
   "outputs": [],
   "source": [
    "def plot_vort_terms(field,N=90,S=90,W=0,E=360,pressure_level=0,\n",
    "                    spacing=5,vmin=None,vmax=None,wind=False):\n",
    "    '''to be used for the scale analysis of the vorticity equation.\n",
    "       this function plots field with an areal extend of [N,S,W,E] at pressure_level.\n",
    "       W is given in degrees east and has to be smaller than E,\n",
    "       also no negative values are allowed.\n",
    "       the geopotential height is displayed as contour lines.\n",
    "       vmin and vmax are the minumum and maximum values of field in the colorbar.\n",
    "       wind is a flag whether the wind field is displayed as arrows or not.\n",
    "    '''\n",
    "\n",
    "    N = 90-N\n",
    "    S = 90+S\n",
    "    \n",
    "    fig, ax = plt.subplots(figsize=(15,8), subplot_kw={'projection': ccrs.PlateCarree()})\n",
    "    im = ax.contourf(lon[W:E], lat[N:S], field[pressure_level,N:S,W:E],\n",
    "                    cmap='viridis', levels=50, vmin=vmin, vmax=vmax)\n",
    "    \n",
    "    im2 = ax.contour(lon[W:E], lat[N:S], geop_height[1,pressure_level,N:S,W:E])\n",
    "    ax.clabel(im2, im2.levels, inline=True,colors='k')\n",
    "    \n",
    "    if wind:\n",
    "        Q = ax.quiver(lon[W:E][::spacing], lat[N:S][::spacing],\n",
    "                    uWind[1,pressure_level,N:S,W:E][::spacing,::spacing],\n",
    "                    vWind[1,pressure_level,N:S,W:E][::spacing,::spacing])\n",
    "        Qk = ax.quiverkey(Q,0.5,-0.1,np.nanmax(uWind[1,pressure_level,N:S,W:E][::spacing,::spacing]),\n",
    "                label=\"{:.0f}\".format(np.array(np.nanmax(uWind[1,pressure_level,N:S,W:E][::spacing,::spacing]))) + \" m/s wind velocity\",\n",
    "                labelpos = 'E')\n",
    "\n",
    "    ax.add_feature(cf.COASTLINE)\n",
    "    ax.add_feature(cf.BORDERS)\n",
    "    ax.set_xticks([0],[0])\n",
    "    ax.set_yticks([0],[0])\n",
    "\n",
    "    fig.colorbar(im, orientation='horizontal', fraction=0.039*len(lon)/len(lat), label=f\"{field.long_name} [{field.units}]\")\n",
    "    ax.set_title(f\"{field.long_name} at pressure level {int(pressure_levels[pressure_level]/100)} hPa\", fontsize=15)\n",
    "    fig.tight_layout()"
   ]
  },
  {
   "cell_type": "markdown",
   "id": "d2efb9fb",
   "metadata": {},
   "source": [
    "### Use the function to display and compare the terms of the vorticity equation\n",
    "\n",
    "try out different regions and altitudes <br>\n",
    "<br>\n",
    "the variables are <br>\n",
    "local change of vorticity: loc_change_eta <br>\n",
    "horizontal (i.e. on pressure levels) vorticity advection: hor_adv_eta <br>\n",
    "vertical vorticity advection: vert_adv_eta <br>\n",
    "ballerina effect: ball_term <br>\n",
    "tilting term: tilt_term <br>\n",
    "solenoid term: sol_term"
   ]
  },
  {
   "cell_type": "code",
   "execution_count": null,
   "id": "42f24cb7",
   "metadata": {},
   "outputs": [],
   "source": [
    "pressure_levels/100 # in hPa"
   ]
  },
  {
   "cell_type": "code",
   "execution_count": null,
   "id": "3f402302",
   "metadata": {},
   "outputs": [],
   "source": [
    "plot_vort_terms(sol_term,N=70,S=10,E=360,W=290,pressure_level=-2,wind=False)"
   ]
  },
  {
   "cell_type": "code",
   "execution_count": null,
   "id": "857d01d5",
   "metadata": {},
   "outputs": [],
   "source": []
  }
 ],
 "metadata": {
  "kernelspec": {
   "display_name": "Python 3 (ipykernel)",
   "language": "python",
   "name": "python3"
  },
  "language_info": {
   "codemirror_mode": {
    "name": "ipython",
    "version": 3
   },
   "file_extension": ".py",
   "mimetype": "text/x-python",
   "name": "python",
   "nbconvert_exporter": "python",
   "pygments_lexer": "ipython3",
   "version": "3.9.11"
  }
 },
 "nbformat": 4,
 "nbformat_minor": 5
}
