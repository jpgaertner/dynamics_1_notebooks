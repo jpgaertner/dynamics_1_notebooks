{
 "cells": [
  {
   "cell_type": "code",
   "execution_count": null,
   "id": "5179853a",
   "metadata": {},
   "outputs": [],
   "source": [
    "import xarray as xr\n",
    "import matplotlib.pyplot as plt\n",
    "import cartopy.crs as ccrs\n",
    "import cartopy.feature as cf\n",
    "import numpy as np"
   ]
  },
  {
   "cell_type": "code",
   "execution_count": null,
   "id": "14e76aba",
   "metadata": {},
   "outputs": [],
   "source": [
    "# import fields and grid\n",
    "\n",
    "%store -r fields\n",
    "[uWind,vWind,wWind,temp,geop,div,vort,geop_height] = fields\n",
    "\n",
    "%store -r grid\n",
    "[lon,lat,pressure_levels] = grid"
   ]
  },
  {
   "cell_type": "code",
   "execution_count": null,
   "id": "fb7e06fa",
   "metadata": {},
   "outputs": [],
   "source": [
    "# for calculating the gradient of a given field, first the distance between\n",
    "# grid points is converted to metres. the distance in meridional direction is\n",
    "# constant (deg_to_m) but varies in zonal direction depending on the latitude (dist)\n",
    "\n",
    "deg_to_m = 111120\n",
    "\n",
    "dist = np.array(deg_to_m * np.cos(np.deg2rad(lat)))\n",
    "dist = np.swapaxes(np.tile(dist,[len(lon),1]),0,1)\n",
    "\n",
    "def grad(field):\n",
    "    '''this function calculates the gradient of field'''\n",
    "    grad = np.zeros((2,*temp.isel(time=0).shape))\n",
    "    \n",
    "    for j in range(1,len(field.latitude)-1):\n",
    "        grad[1,:,j,:] = - 1 / (2 * deg_to_m) * (field.isel(time=1)[:,j+1,:] - field.isel(time=1)[:,j-1,:])\n",
    "    grad[1,:,0,:] = - 1 / deg_to_m * (field.isel(time=1)[:,1,:] - field.isel(time=1)[:,0,:])\n",
    "    grad[1,:,-1,:] = - 1 / deg_to_m * (field.isel(time=1)[:,-1,:] - field.isel(time=1)[:,-2,:])\n",
    "    \n",
    "    for i in range(1,len(field.longitude)-1):\n",
    "        grad[0,:,:,i] = 1 / (2 * dist[:,i]) * (field.isel(time=1)[:,:,i+1] - field.isel(time=1)[:,:,i-1])\n",
    "    grad[0,:,:,0] = 1 / dist[:,0] * (field.isel(time=1)[:,:,1] - field.isel(time=1)[:,:,0])\n",
    "    grad[0,:,:,-1] = 1 / dist[:,-1] * (field.isel(time=1)[:,:,-1] - field.isel(time=1)[:,:,-2])\n",
    "    \n",
    "    return grad"
   ]
  },
  {
   "cell_type": "code",
   "execution_count": null,
   "id": "36479071",
   "metadata": {},
   "outputs": [],
   "source": [
    "# calculate the coriolis parameter f and set a critical latitude lat_c\n",
    "# at which the geostrophic wind relation breaks down bc of the 1/f term\n",
    "\n",
    "lat_c = 10\n",
    "\n",
    "omega = 7.2921e-5\n",
    "f = np.zeros((len(lat),len(lon)))\n",
    "f = 2 * omega * np.sin(np.deg2rad(lat))\n",
    "f = np.swapaxes(np.tile(f, (len(lon),1)),0,1)\n",
    "f[90-lat_c:90+lat_c] = np.nan\n",
    "recip_f = 1 / f"
   ]
  },
  {
   "cell_type": "markdown",
   "id": "00d700eb",
   "metadata": {},
   "source": [
    "The geostrophic velocity is calculated according to\n",
    "\\begin{align}\n",
    "\\vec{v}_g = \\dfrac{1}{f} \\vec{k} \\times \\nabla_p \\Phi\n",
    "\\end{align}"
   ]
  },
  {
   "cell_type": "code",
   "execution_count": null,
   "id": "e5f8c569",
   "metadata": {},
   "outputs": [],
   "source": [
    "uWindG = - recip_f * grad(geop)[1]\n",
    "vWindG =   recip_f * grad(geop)[0]"
   ]
  },
  {
   "cell_type": "code",
   "execution_count": null,
   "id": "6608097a",
   "metadata": {},
   "outputs": [],
   "source": [
    "# store geostrophic wind so it can be imported into other notebooks\n",
    "\n",
    "%store uWindG\n",
    "%store vWindG"
   ]
  },
  {
   "cell_type": "code",
   "execution_count": null,
   "id": "76a4e5b9",
   "metadata": {},
   "outputs": [],
   "source": [
    "def geos_wind(field,N=90,S=90,W=0,E=360,pressure_level=-2,spacing=5,scale=500):\n",
    "    '''this function plots field with an areal extend of [N,S,W,E] at pressure_level\n",
    "       with the wind and geostrophic wind displayed as arrows.\n",
    "       W is given in degrees east and has to be smaller than E,\n",
    "       also no negative values are allowed.\n",
    "       spacing is the space inbetween arrows in degrees.\n",
    "       scale gives the length of the arrows in the image. try out\n",
    "       different values, smaller values give longer arrows.\n",
    "       the geopotential height is displayed as contour lines (in m).\n",
    "    '''\n",
    "    N = 90-N\n",
    "    S = 90+S\n",
    "\n",
    "    fig, ax = plt.subplots(figsize=(15,8), subplot_kw={'projection': ccrs.PlateCarree()})\n",
    "    im = ax.contourf(lon[W:E], lat[N:S], field[1,pressure_level,N:S,W:E],\n",
    "                    cmap='viridis', levels=20)\n",
    "    \n",
    "    im2 = ax.contour(lon[W:E], lat[N:S], geop_height[1,pressure_level,N:S,W:E])\n",
    "    ax.clabel(im2, im2.levels, inline=True,colors='k')\n",
    "\n",
    "    Q = ax.quiver(lon[W:E][::spacing], lat[N:S][::spacing],\n",
    "                   uWind[1,pressure_level,N:S,W:E][::spacing,::spacing],\n",
    "                   vWind[1,pressure_level,N:S,W:E][::spacing,::spacing],\n",
    "                   color = \"r\",scale=scale)\n",
    "    Qk = ax.quiverkey(Q, 0.5,-0.1,np.nanmax(uWind[1,pressure_level,N:S,W:E][::spacing,::spacing]),\n",
    "                      label=\"{:.0f}\".format(np.nanmax(uWind[1,pressure_level,N:S,W:E][::spacing,::spacing])) + \" m/s wind velocity\",\n",
    "                      labelpos = 'E')\n",
    "\n",
    "    Q2 = ax.quiver(lon[W:E][::spacing], lat[N:S][::spacing],\n",
    "                  uWindG[pressure_level,N:S,W:E][::spacing,::spacing],\n",
    "                  vWindG[pressure_level,N:S,W:E][::spacing,::spacing],\n",
    "                  color=\"b\",scale=scale)\n",
    "    Qk2 = ax.quiverkey(Q2,0.5,-0.15,np.nanmax(uWind[1,pressure_level,N:S,W:E][::spacing,::spacing]),\n",
    "                      label=\"{:.0f}\".format(np.nanmax(uWind[1,pressure_level,N:S,W:E][::spacing,::spacing])) + \" m/s geostrophic wind velocity\",\n",
    "                      labelpos = 'E')\n",
    "\n",
    "    ax.add_feature(cf.COASTLINE)\n",
    "    ax.add_feature(cf.BORDERS)\n",
    "    ax.set_xticks([0],[0])\n",
    "    ax.set_yticks([0],[0])\n",
    "\n",
    "    col = fig.colorbar(im, orientation='horizontal', fraction=0.039*len(lon)/len(lat), label=f\"{field.long_name} [{field.units}]\")\n",
    "    ax.set_title(f\"{field.long_name} at pressure level {pressure_levels[pressure_level]} hPa\", fontsize=20)\n",
    "    fig.tight_layout()"
   ]
  },
  {
   "cell_type": "markdown",
   "id": "c4be8cdc",
   "metadata": {},
   "source": [
    "### Use the function to compare the geostrophic wind with the actual wind in different regions and at different altitudes\n",
    "\n",
    "also try out different values for spacing and scale"
   ]
  },
  {
   "cell_type": "code",
   "execution_count": null,
   "id": "73b31dfb",
   "metadata": {},
   "outputs": [],
   "source": [
    "pressure_levels # in hPa"
   ]
  },
  {
   "cell_type": "code",
   "execution_count": null,
   "id": "1d6e2495",
   "metadata": {
    "scrolled": false
   },
   "outputs": [],
   "source": [
    "geos_wind(temp,pressure_level=-3,spacing=10,scale=400)"
   ]
  },
  {
   "cell_type": "code",
   "execution_count": null,
   "id": "d7abcea7",
   "metadata": {
    "scrolled": false
   },
   "outputs": [],
   "source": [
    "geos_wind(temp,N=60,S=-40,W=0,E=20,spacing=1,scale=500,pressure_level=-4)"
   ]
  },
  {
   "cell_type": "code",
   "execution_count": null,
   "id": "182f3755",
   "metadata": {},
   "outputs": [],
   "source": []
  }
 ],
 "metadata": {
  "kernelspec": {
   "display_name": "Python 3 (ipykernel)",
   "language": "python",
   "name": "python3"
  },
  "language_info": {
   "codemirror_mode": {
    "name": "ipython",
    "version": 3
   },
   "file_extension": ".py",
   "mimetype": "text/x-python",
   "name": "python",
   "nbconvert_exporter": "python",
   "pygments_lexer": "ipython3",
   "version": "3.9.11"
  }
 },
 "nbformat": 4,
 "nbformat_minor": 5
}
