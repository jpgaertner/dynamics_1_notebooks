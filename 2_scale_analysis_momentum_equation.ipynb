{
 "cells": [
  {
   "cell_type": "code",
   "execution_count": null,
   "id": "e5574812",
   "metadata": {},
   "outputs": [],
   "source": [
    "import xarray as xr\n",
    "import matplotlib.pyplot as plt\n",
    "import cartopy.crs as ccrs\n",
    "import cartopy.feature as cf\n",
    "import numpy as np"
   ]
  },
  {
   "cell_type": "code",
   "execution_count": null,
   "id": "3c1a96f7",
   "metadata": {},
   "outputs": [],
   "source": [
    "# import fields and grid\n",
    "\n",
    "%store -r fields\n",
    "[uWind,vWind,wWind,temp,geop,div,vort,geop_height] = fields\n",
    "\n",
    "%store -r grid\n",
    "[lon,lat,pressure_levels] = grid"
   ]
  },
  {
   "cell_type": "code",
   "execution_count": null,
   "id": "1a86bead",
   "metadata": {},
   "outputs": [],
   "source": [
    "# for calculating the gradient of a given field, first the distance between\n",
    "# grid points is converted to metres. the distance in meridional direction is\n",
    "# constant (deg_to_m) but varies in zonal direction depending on the latitude (dist)\n",
    "\n",
    "deg_to_m = 111120\n",
    "\n",
    "dist = np.array(deg_to_m * np.cos(np.deg2rad(lat)))\n",
    "dist = np.swapaxes(np.tile(dist,[len(lon),1]),0,1)\n",
    "\n",
    "def grad(field):\n",
    "    '''this function calculates the gradient of field'''\n",
    "    grad = np.zeros((2,*temp.isel(time=0).shape))\n",
    "    \n",
    "    for j in range(1,len(field.latitude)-1):\n",
    "        grad[1,:,j,:] = - 1 / (2 * deg_to_m) * (field.isel(time=1)[:,j+1,:] - field.isel(time=1)[:,j-1,:])\n",
    "    grad[1,:,0,:] = - 1 / deg_to_m * (field.isel(time=1)[:,1,:] - field.isel(time=1)[:,0,:])\n",
    "    grad[1,:,-1,:] = - 1 / deg_to_m * (field.isel(time=1)[:,-1,:] - field.isel(time=1)[:,-2,:])\n",
    "    \n",
    "    for i in range(1,len(field.longitude)-1):\n",
    "        grad[0,:,:,i] = 1 / (2 * dist[:,i]) * (field.isel(time=1)[:,:,i+1] - field.isel(time=1)[:,:,i-1])\n",
    "    grad[0,:,:,0] = 1 / dist[:,0] * (field.isel(time=1)[:,:,1] - field.isel(time=1)[:,:,0])\n",
    "    grad[0,:,:,-1] = 1 / dist[:,-1] * (field.isel(time=1)[:,:,-1] - field.isel(time=1)[:,:,-2])\n",
    "    \n",
    "    return grad"
   ]
  },
  {
   "cell_type": "code",
   "execution_count": null,
   "id": "308707c0",
   "metadata": {},
   "outputs": [],
   "source": [
    "# calculate and store coriolis parameter\n",
    "\n",
    "omega = 7.2921e-5\n",
    "f = np.zeros((len(lat),len(lon)))\n",
    "f = 2 * omega * np.sin(np.deg2rad(lat))\n",
    "f = np.swapaxes(np.tile(f, [len(lon),1]),0,1)\n",
    "%store f"
   ]
  },
  {
   "cell_type": "markdown",
   "id": "aba86039",
   "metadata": {},
   "source": [
    "The horizontal momentum equation (neglecting friction) is\n",
    "\\begin{align}\n",
    "\\dfrac{d\\pmb{u}_h}{dt} &= - \\nabla_p \\phi - f (\\pmb{k} \\times \\pmb{u})_h\\\\\n",
    "\\dfrac{\\partial \\pmb{u}_h}{\\partial t} + \\pmb{u}_h \\nabla_p \\pmb{u}_h &= - \\nabla_p \\phi + f (v\\pmb{i} - u \\pmb{j})\n",
    "\\end{align}"
   ]
  },
  {
   "cell_type": "code",
   "execution_count": null,
   "id": "efa4b850",
   "metadata": {},
   "outputs": [],
   "source": [
    "# calculate the individual terms of the momentum equation\n",
    "\n",
    "# local change of wind velocity\n",
    "loc_change = [( uWind[2,:,:,:] - uWind[0,:,:,:] ) / 2,\n",
    "              ( vWind[2,:,:,:] - vWind[0,:,:,:] ) / 2]\n",
    "\n",
    "# horizontal (i.e. on pressure levels) wind velocity advection\n",
    "adv_change = [uWind[1,:,:,:],vWind[1,:,:,:]] * (grad(uWind) + grad(vWind)) * 3600\n",
    "\n",
    "# geopotenial gradient term\n",
    "geop_term = - grad(geop) * 3600\n",
    "\n",
    "# coriolis term\n",
    "cor_term = f * [vWind[1,:,:,:], - uWind[1,:,:,:]] * 3600"
   ]
  },
  {
   "cell_type": "code",
   "execution_count": null,
   "id": "0bd6ee0a",
   "metadata": {},
   "outputs": [],
   "source": [
    "def plot_mom_terms(field,vector,N=90,S=90,W=0,E=360,pressure_level=0,\n",
    "                   spacing=5,vmin=None,vmax=None,scale=200):\n",
    "    '''to be used for the scale analysis of the momentum equation.\n",
    "       this function plots field with an areal extend of [N,S,W,E] at\n",
    "       pressure_level with the momentum equation term (vector)\n",
    "       displayed as arrows.\n",
    "       W is given in degrees east and has to be smaller than E,\n",
    "       also no negative values are allowed.\n",
    "       spacing gives the space between arrows in degrees.\n",
    "       scale gives the length of the arrows in the image. try out\n",
    "       different values, smaller values give longer arrows.\n",
    "       vmin and vmax are the minumum and maximum values of field in the colorbar.\n",
    "       the geopotential height is displayed as contour lines (in m).\n",
    "    '''\n",
    "\n",
    "    N = 90-N\n",
    "    S = 90+S\n",
    "    \n",
    "    fig, ax = plt.subplots(figsize=(15,8), subplot_kw={'projection': ccrs.PlateCarree()})\n",
    "    im = ax.contourf(lon[W:E], lat[N:S], field[1,pressure_level,N:S,W:E],\n",
    "                    cmap='viridis', levels=50, vmin=vmin, vmax=vmax)\n",
    "    \n",
    "    im2 = ax.contour(lon[W:E], lat[N:S], geop_height[1,pressure_level,N:S,W:E])\n",
    "    ax.clabel(im2, im2.levels, inline=True,colors='k')    \n",
    "\n",
    "    Q = ax.quiver(lon[W:E][::spacing], lat[N:S][::spacing],\n",
    "                vector[0][pressure_level,N:S,W:E][::spacing,::spacing],\n",
    "                vector[1][pressure_level,N:S,W:E][::spacing,::spacing],\n",
    "                scale = scale)\n",
    "    Qk = ax.quiverkey(Q,0.5,-0.1,np.nanmax(vector[:,pressure_level,N:S,W:E][::spacing,::spacing]),\n",
    "                      label=\"{:.0f}\".format(np.nanmax(vector[:,pressure_level,N:S,W:E][::spacing,::spacing]))\n",
    "                      + \"m/s /h\",labelpos = 'E')\n",
    "    ax.add_feature(cf.COASTLINE)\n",
    "    ax.add_feature(cf.BORDERS)\n",
    "    ax.set_xticks([0],[0])\n",
    "    ax.set_yticks([0],[0])\n",
    "\n",
    "    fig.colorbar(im, orientation='horizontal', fraction=0.039*len(lon)/len(lat),label=f\"{field.long_name} [{field.units}]\")\n",
    "    ax.set_title(f\"{field.long_name} at pressure level {pressure_levels[pressure_level]} hPa\", fontsize=15)\n",
    "    fig.tight_layout()"
   ]
  },
  {
   "cell_type": "markdown",
   "id": "015c9041",
   "metadata": {},
   "source": [
    "### Use the function to display and compare the terms of the momentum equation\n",
    "also try out different regions and altitudes, and different values for spacing and scale <br>\n",
    "<br>\n",
    "the variables are <br>\n",
    "local change of wind velocity: loc_change <br>\n",
    "horizontal (i.e. on pressure levels) wind velocity advection: adv_change <br>\n",
    "geopotenial gradient term: geop_term <br>\n",
    "coriolis term: cor_term <br>"
   ]
  },
  {
   "cell_type": "code",
   "execution_count": null,
   "id": "21f573e1",
   "metadata": {},
   "outputs": [],
   "source": [
    "pressure_levels # in hPa"
   ]
  },
  {
   "cell_type": "code",
   "execution_count": null,
   "id": "51b85a20",
   "metadata": {
    "scrolled": false
   },
   "outputs": [],
   "source": [
    "plot_mom_terms(temp,adv_change,N=70,S=0,W=270,E=360,pressure_level=3,spacing=2,scale=50)"
   ]
  },
  {
   "cell_type": "code",
   "execution_count": null,
   "id": "62f2b7b3",
   "metadata": {},
   "outputs": [],
   "source": [
    "plot_mom_terms(uWind,adv_change,pressure_level=2,spacing=5,scale=200)"
   ]
  },
  {
   "cell_type": "code",
   "execution_count": null,
   "id": "229020d5",
   "metadata": {},
   "outputs": [],
   "source": []
  }
 ],
 "metadata": {
  "kernelspec": {
   "display_name": "Python 3 (ipykernel)",
   "language": "python",
   "name": "python3"
  },
  "language_info": {
   "codemirror_mode": {
    "name": "ipython",
    "version": 3
   },
   "file_extension": ".py",
   "mimetype": "text/x-python",
   "name": "python",
   "nbconvert_exporter": "python",
   "pygments_lexer": "ipython3",
   "version": "3.9.11"
  }
 },
 "nbformat": 4,
 "nbformat_minor": 5
}
