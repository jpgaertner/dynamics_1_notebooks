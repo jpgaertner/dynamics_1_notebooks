{
 "cells": [
  {
   "cell_type": "code",
   "execution_count": null,
   "id": "22a57e13",
   "metadata": {},
   "outputs": [],
   "source": [
    "import xarray as xr\n",
    "import matplotlib.pyplot as plt\n",
    "import cartopy.crs as ccrs\n",
    "import cartopy.feature as cf\n",
    "import numpy as np\n",
    "import os"
   ]
  },
  {
   "cell_type": "code",
   "execution_count": null,
   "id": "e25d7317",
   "metadata": {
    "scrolled": true
   },
   "outputs": [],
   "source": [
    "# choose a month\n",
    "month = '07'\n",
    "\n",
    "# load in data sets\n",
    "# the fields all have dimensions time, pressure level, latitude and longitude.\n",
    "# (the time dimension (t-1h, t, t+1h) is only used for derivatives in the scale analysis\n",
    "# and ignored elsewhere, i.e. just the central time step is used)\n",
    "\n",
    "script_dir = os.path.dirname(__name__)\n",
    "rel_path = f'files/2020_{month}_01_hourly.nc'\n",
    "abs_file_path = os.path.join(script_dir, rel_path)\n",
    "rel_path_surf = f'files/2020_{month}_01_hourly_surf.nc'\n",
    "abs_file_path_surf = os.path.join(script_dir, rel_path_surf)\n",
    "\n",
    "data = xr.open_dataset(abs_file_path)\n",
    "uWind = data['u']\n",
    "vWind = data['v']\n",
    "wWind = data['w']\n",
    "temp = data['t']\n",
    "div = data['d']\n",
    "geop = data['z']\n",
    "vort = data['vo']\n",
    "surf_press = xr.open_dataset(abs_file_path_surf)['sp']\n",
    "pressure_levels = np.array(data.level)\n",
    "\n",
    "lon = data.longitude\n",
    "lat = data.latitude\n",
    "grav = 9.80665\n",
    "geop_height = geop / grav"
   ]
  },
  {
   "cell_type": "code",
   "execution_count": null,
   "id": "c26e7710",
   "metadata": {},
   "outputs": [],
   "source": [
    "# The fields are set to nan where there are mountains/ surface elevations\n",
    "# that are higher than the respective pressure level\n",
    "\n",
    "def orography(field):\n",
    "    for i in range(len(pressure_levels)):\n",
    "        field[:,i,:,:] = np.where(surf_press<pressure_levels[i]*100,np.nan,field[:,i,:,:])\n",
    "    return field\n",
    "\n",
    "[uWind,vWind,wWind,temp,geop,div,vort] = [orography(field) for field in [uWind,vWind,wWind,temp,geop,div,vort]]"
   ]
  },
  {
   "cell_type": "code",
   "execution_count": null,
   "id": "8d790e72",
   "metadata": {
    "scrolled": true
   },
   "outputs": [],
   "source": [
    "# store fields and grid so they can be imported into other notebooks\n",
    "\n",
    "fields = [uWind,vWind,wWind,temp,geop,div,vort,geop_height]\n",
    "%store fields\n",
    "grid = [lon,lat,pressure_levels]\n",
    "%store grid\n",
    "%store month"
   ]
  },
  {
   "cell_type": "code",
   "execution_count": null,
   "id": "d44cd930",
   "metadata": {},
   "outputs": [],
   "source": [
    "# for calculating the gradient of a given field, first the distance between\n",
    "# grid points is converted to metres. the distance in meridional direction is\n",
    "# constant (deg_to_m) but varies in zonal direction depending on the latitude (dist)\n",
    "\n",
    "deg_to_m = 111120\n",
    "\n",
    "dist = np.array(deg_to_m * np.cos(np.deg2rad(lat)))\n",
    "dist = np.swapaxes(np.tile(dist,[len(lon),1]),0,1)\n",
    "\n",
    "def grad(field):\n",
    "    '''this function calculates the gradient of field'''\n",
    "    grad = np.zeros((2,*field.isel(time=0).shape))\n",
    "    \n",
    "    for j in range(1,len(field.latitude)-1):\n",
    "        grad[1,:,j,:] = - 1 / (2 * deg_to_m) * (field.isel(time=1)[:,j+1,:] - field.isel(time=1)[:,j-1,:])\n",
    "    grad[1,:,0,:] = - 1 / deg_to_m * (field.isel(time=1)[:,1,:] - field.isel(time=1)[:,0,:])\n",
    "    grad[1,:,-1,:] = - 1 / deg_to_m * (field.isel(time=1)[:,-1,:] - field.isel(time=1)[:,-2,:])\n",
    "    \n",
    "    for i in range(1,len(field.longitude)-1):\n",
    "        grad[0,:,:,i] = 1 / (2 * dist[:,i]) * (field.isel(time=1)[:,:,i+1] - field.isel(time=1)[:,:,i-1])\n",
    "    grad[0,:,:,0] = 1 / dist[:,0] * (field.isel(time=1)[:,:,1] - field.isel(time=1)[:,:,0])\n",
    "    grad[0,:,:,-1] = 1 / dist[:,-1] * (field.isel(time=1)[:,:,-1] - field.isel(time=1)[:,:,-2])\n",
    "    \n",
    "    return grad"
   ]
  },
  {
   "cell_type": "code",
   "execution_count": null,
   "id": "81f3caea",
   "metadata": {},
   "outputs": [],
   "source": [
    "def divergence(field_x, field_y):\n",
    "    '''calculates the divergence of field = (field_x,field_y)'''\n",
    "    div_field = xr.zeros_like(field_x)\n",
    "    div_field[1,:,:,:] = (grad(field_x)[0,:,:,:] + grad(field_y)[1,:,:,:])\n",
    "    div_field.attrs['long_name'] = f'divergence of wind'\n",
    "    div_field.attrs['units'] = f'm/s /m'\n",
    "    return div_field"
   ]
  },
  {
   "cell_type": "code",
   "execution_count": null,
   "id": "b116c0c5",
   "metadata": {},
   "outputs": [],
   "source": [
    "plt.figure(figsize=(15,6))\n",
    "plt.pcolormesh((divergence(uWind,vWind)-div)[1,0,10:-10,:])\n",
    "plt.colorbar()"
   ]
  },
  {
   "cell_type": "code",
   "execution_count": null,
   "id": "992d1c7c",
   "metadata": {},
   "outputs": [],
   "source": [
    "def plot(field,N=90,S=90,W=0,E=360,pressure_level=0,vmin=None,vmax=None):\n",
    "    '''this function plots field with an areal extend of [N,S,W,E] at pressure_level.\n",
    "       W is given in degrees east and has to be smaller than E,\n",
    "       also no negative values are allowed.\n",
    "       the geopotential height is displayed as contour lines.\n",
    "       vmin and vmax are mainly thought to be used for divergence and vorticity\n",
    "       of the wind field and can be ignored for other fields.\n",
    "       the geopotential height is displayed as contour lines (in m).\n",
    "    '''\n",
    "    N = 90-N\n",
    "    S = 90+S\n",
    "    \n",
    "    fig, ax = plt.subplots(figsize=(15,8), subplot_kw={'projection': ccrs.PlateCarree()})\n",
    "    im = ax.contourf(lon[W:E], lat[N:S], field[1,pressure_level,N:S,W:E],\n",
    "                    cmap='viridis', levels=50, vmin=vmin, vmax=vmax)\n",
    "    \n",
    "    im2 = ax.contour(lon[W:E], lat[N:S], geop_height[1,pressure_level,N:S,W:E])\n",
    "    ax.clabel(im2, im2.levels, inline=True,colors='k')\n",
    "\n",
    "    ax.add_feature(cf.COASTLINE)\n",
    "    ax.add_feature(cf.BORDERS)\n",
    "    ax.set_xticks([0],[0])\n",
    "    ax.set_yticks([0],[0])\n",
    "\n",
    "    fig.colorbar(im, orientation='horizontal', fraction=0.039*len(lon)/len(lat), label=f\"{field.long_name} [{field.units}]\")\n",
    "    ax.set_title(f\"{field.long_name} at pressure level {pressure_levels[pressure_level]} hPa\", fontsize=15)\n",
    "    fig.tight_layout()"
   ]
  },
  {
   "cell_type": "code",
   "execution_count": null,
   "id": "2a0e007e",
   "metadata": {},
   "outputs": [],
   "source": [
    "def plot_wind(field,N=90,S=90,W=0,E=360,pressure_level=0,spacing=5,vmin=None,vmax=None):\n",
    "    '''this function plots field with an areal extend of [N,S,W,E] at pressure_level\n",
    "       with the wind field displayed as arrows.\n",
    "       W is given in degrees east and has to be smaller than E,\n",
    "       also no negative values are allowed.\n",
    "       spacing is the space inbetween arrows in degrees.\n",
    "       the geopotential height is displayed as contour lines.\n",
    "       vmin and vmax are mainly thought to be used for divergence and vorticity\n",
    "       of the wind field and can be ignored for other fields.\n",
    "       the geopotential height is displayed as contour lines (in m).\n",
    "    '''\n",
    "    N = 90-N\n",
    "    S = 90+S\n",
    "    \n",
    "    fig, ax = plt.subplots(figsize=(15,8), subplot_kw={'projection': ccrs.PlateCarree()})\n",
    "    im = ax.contourf(lon[W:E], lat[N:S], field[1,pressure_level,N:S,W:E],\n",
    "                    cmap='viridis', levels=50, vmin=vmin, vmax=vmax)\n",
    "    \n",
    "    im2 = ax.contour(lon[W:E], lat[N:S], geop_height[1,pressure_level,N:S,W:E])\n",
    "    ax.clabel(im2, im2.levels, inline=True,colors='k')\n",
    "    \n",
    "    Q = ax.quiver(lon[W:E][::spacing], lat[N:S][::spacing],\n",
    "                uWind[1,pressure_level,N:S,W:E][::spacing,::spacing],\n",
    "                vWind[1,pressure_level,N:S,W:E][::spacing,::spacing])\n",
    "    Qk = ax.quiverkey(Q,0.5,-0.1,np.nanmax(uWind[1,pressure_level,N:S,W:E][::spacing,::spacing]),\n",
    "            label=\"{:.0f}\".format(np.array(np.nanmax(uWind[1,pressure_level,N:S,W:E][::spacing,::spacing]))) + \" m/s wind velocity\",\n",
    "            labelpos = 'E')\n",
    "    ax.add_feature(cf.COASTLINE)\n",
    "    ax.add_feature(cf.BORDERS)\n",
    "    ax.set_xticks([0],[0])\n",
    "    ax.set_yticks([0],[0])\n",
    "\n",
    "    fig.colorbar(im, orientation='horizontal', fraction=0.039*len(lon)/len(lat),label=f\"{field.long_name} [{field.units}]\")\n",
    "    ax.set_title(f\"{field.long_name} at pressure level {pressure_levels[pressure_level]} hPa\", fontsize=15)\n",
    "    fig.tight_layout()"
   ]
  },
  {
   "cell_type": "code",
   "execution_count": null,
   "id": "3d9488f0",
   "metadata": {},
   "outputs": [],
   "source": [
    "def plot_grad(field,N=90,S=90,W=0,E=360,pressure_level=0,spacing=5,vmin=None,vmax=None):\n",
    "    '''this function plots field with an areal extend of [N,S,W,E] at pressure_level\n",
    "       with the gradient of field displayed as arrows.\n",
    "       W is given in degrees east and has to be smaller than E,\n",
    "       also no negative values are allowed.\n",
    "       spacing is the space inbetween arrows in degrees.\n",
    "       the geopotential height is displayed as contour lines.\n",
    "       vmin and vmax are mainly thought to be used for divergence and vorticity\n",
    "       of the wind field and can be ignored for other fields.\n",
    "       the geopotential height is displayed as contour lines (in m).\n",
    "    '''\n",
    "    N = 90-N\n",
    "    S = 90+S\n",
    "    \n",
    "    fig, ax = plt.subplots(figsize=(15,8), subplot_kw={'projection': ccrs.PlateCarree()})\n",
    "    im = ax.contourf(lon[W:E], lat[N:S], field[1,pressure_level,N:S,W:E],\n",
    "                    cmap='viridis', levels=50, vmin=vmin, vmax=vmax)\n",
    "    \n",
    "    im2 = ax.contour(lon[W:E], lat[N:S], geop_height[1,pressure_level,N:S,W:E])\n",
    "    ax.clabel(im2, im2.levels, inline=True,colors='k')\n",
    "    \n",
    "    Q = ax.quiver(lon[W:E][::spacing], lat[N:S][::spacing],\n",
    "                grad(field)[0,pressure_level,N:S,W:E][::spacing,::spacing],\n",
    "                grad(field)[1,pressure_level,N:S,W:E][::spacing,::spacing])\n",
    "    Qk = ax.quiverkey(Q,0.5,-0.1,np.nanmax(grad(field)[:,pressure_level,N:S,W:E][::spacing,::spacing]),\n",
    "                      label=\"{:.0f}\".format(100000 * np.nanmax(grad(field)[:,pressure_level,N:S,W:E][::spacing,::spacing]))\n",
    "                           +f\" {field.units} / 100 km {field.long_name} gradient\",labelpos = 'E')\n",
    "    ax.add_feature(cf.COASTLINE)\n",
    "    ax.add_feature(cf.BORDERS)\n",
    "    ax.set_xticks([0],[0])\n",
    "    ax.set_yticks([0],[0])\n",
    "\n",
    "    col = fig.colorbar(im, orientation='horizontal', fraction=0.039*len(lon)/len(lat),label=f\"{field.long_name} [{field.units}]\")\n",
    "    ax.set_title(f\"{field.long_name} at pressure level {pressure_levels[pressure_level]} hPa\", fontsize=15)\n",
    "    fig.tight_layout()"
   ]
  },
  {
   "cell_type": "markdown",
   "id": "eea1c4f9",
   "metadata": {},
   "source": [
    "### Use the functions to display the fields alone (plot), with their gradient (plot_grad), or with the wind (plot_wind)\n",
    "\n",
    "try out different regions and altitudes"
   ]
  },
  {
   "cell_type": "code",
   "execution_count": null,
   "id": "6f3952ca",
   "metadata": {},
   "outputs": [],
   "source": [
    "pressure_levels # in hPa"
   ]
  },
  {
   "cell_type": "code",
   "execution_count": null,
   "id": "9bc9c2aa",
   "metadata": {},
   "outputs": [],
   "source": [
    "plot(temp,pressure_level=-2)"
   ]
  },
  {
   "cell_type": "code",
   "execution_count": null,
   "id": "e8227bda",
   "metadata": {},
   "outputs": [],
   "source": [
    "plot(temp,N=60,S=-40,W=0,E=20,pressure_level=2)"
   ]
  },
  {
   "cell_type": "code",
   "execution_count": null,
   "id": "aff74d9f",
   "metadata": {
    "scrolled": false
   },
   "outputs": [],
   "source": [
    "plot_grad(temp,pressure_level=3)"
   ]
  },
  {
   "cell_type": "code",
   "execution_count": null,
   "id": "29a0b2b8",
   "metadata": {},
   "outputs": [],
   "source": [
    "plot_wind(temp,N=20,S=90,W=80,E=180,pressure_level=2,spacing=4)"
   ]
  },
  {
   "cell_type": "markdown",
   "id": "eb7b8ef5",
   "metadata": {},
   "source": [
    "For displaying the divergence and vorticity it is useful to set the parameters vmin and vmax. Different values may be appropiate for different areas and pressure levels."
   ]
  },
  {
   "cell_type": "code",
   "execution_count": null,
   "id": "b3338981",
   "metadata": {},
   "outputs": [],
   "source": [
    "plot_wind(div,N=60,S=30,W=280,E=360,pressure_level=2,spacing=3,vmin=-0.0001,vmax=0.0001)"
   ]
  },
  {
   "cell_type": "code",
   "execution_count": null,
   "id": "ed76108b",
   "metadata": {},
   "outputs": [],
   "source": [
    "plot_wind(vort,N=60,S=30,W=280,E=360,pressure_level=3,spacing=3,vmin=-0.0001,vmax=0.0001)"
   ]
  },
  {
   "cell_type": "code",
   "execution_count": null,
   "id": "4ce21835",
   "metadata": {},
   "outputs": [],
   "source": []
  }
 ],
 "metadata": {
  "kernelspec": {
   "display_name": "Python 3 (ipykernel)",
   "language": "python",
   "name": "python3"
  },
  "language_info": {
   "codemirror_mode": {
    "name": "ipython",
    "version": 3
   },
   "file_extension": ".py",
   "mimetype": "text/x-python",
   "name": "python",
   "nbconvert_exporter": "python",
   "pygments_lexer": "ipython3",
   "version": "3.9.11"
  }
 },
 "nbformat": 4,
 "nbformat_minor": 5
}
