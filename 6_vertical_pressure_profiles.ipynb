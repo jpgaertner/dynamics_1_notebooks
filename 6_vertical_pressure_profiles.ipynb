{
 "cells": [
  {
   "cell_type": "code",
   "execution_count": null,
   "id": "a8455317",
   "metadata": {},
   "outputs": [],
   "source": [
    "import numpy as np\n",
    "import matplotlib.pyplot as plt"
   ]
  },
  {
   "cell_type": "markdown",
   "id": "c68964a9",
   "metadata": {},
   "source": [
    "# The Isothermal Atmosphere\n",
    "\n",
    "The hydrostatic equation is\n",
    "\n",
    "\\begin{align}\n",
    "dp &= - \\rho g dz\n",
    "\\end{align}\n",
    "\n",
    "combining this with the ideal gas equation $p = \\rho R T$ yields\n",
    "\n",
    "\\begin{align}\n",
    "\\dfrac{dp}{p} &= - \\dfrac{g}{R T} dz\n",
    "\\end{align}\n",
    "\n",
    "If the temperature is constant in the vertical, this equation can be integrated to\n",
    "\n",
    "\\begin{align}\n",
    "\\text{ln}\\left(\\dfrac{dp}{p}\\right) &= - \\dfrac{g z}{R T_0}\\\\\n",
    "\\Leftrightarrow p &= p_0 e^{-z/H_0} \\qquad \\text{with $H_0 = \\dfrac{R T_0}{g}$}\n",
    "\\end{align}"
   ]
  },
  {
   "cell_type": "markdown",
   "id": "8f921517",
   "metadata": {},
   "source": [
    "Feel free to change the reference temperature T0 in the cell below"
   ]
  },
  {
   "cell_type": "code",
   "execution_count": null,
   "id": "4fd442a1",
   "metadata": {},
   "outputs": [],
   "source": [
    "R_ideal = 8.314 # ideal gas constant [J/K mol]\n",
    "M = 28.9647e-3 # molar mass of air [kg/mol]\n",
    "R_spec = R_ideal / M # specific gas constant of air [J/K kg]\n",
    "g = 9.807 # gravity [m/s^2]\n",
    "T0 = 273.15 + 20 # constant temperature of the atmosphere [K]\n",
    "\n",
    "# height of the isothermal atmosphere [m]\n",
    "H0 = R_spec * T0 / g\n",
    "H0"
   ]
  },
  {
   "cell_type": "code",
   "execution_count": null,
   "id": "25a7476e",
   "metadata": {},
   "outputs": [],
   "source": [
    "def p_T(z):\n",
    "    # calculates pressure at altitude z for the isothermal atmosphere\n",
    "    \n",
    "    p0 = 1013.25 # standart surface pressure [hPa]\n",
    "    return p0 * np.exp(-z / H0)"
   ]
  },
  {
   "cell_type": "code",
   "execution_count": null,
   "id": "8489544f",
   "metadata": {},
   "outputs": [],
   "source": [
    "z = np.arange(0,9000,10)\n",
    "\n",
    "plt.figure(figsize=(4,8))\n",
    "plt.plot(p_T(z),z)\n",
    "plt.xlabel('Pressure [hPa]')\n",
    "plt.xticks(np.arange(300,1100,100))\n",
    "plt.ylabel('Altitude [m]')\n",
    "plt.yticks(np.arange(0,9000,500))\n",
    "plt.grid()\n",
    "plt.title('Pressure profile for the isothermal atmosphere')\n",
    "plt.show()"
   ]
  },
  {
   "cell_type": "markdown",
   "id": "2fbc6df7",
   "metadata": {},
   "source": [
    "# The Homogeneous Atmosphere\n",
    "\n",
    "The hydrostatic equation is\n",
    "\n",
    "\\begin{align}\n",
    "dp &= - \\rho g dz\n",
    "\\end{align}\n",
    "\n",
    "If $\\rho$ is constant, this can directly be integrated to\n",
    "\n",
    "\\begin{align}\n",
    "p - p_0 = -\\rho g (z - z_0)\n",
    "\\end{align}\n",
    "\n",
    "$z_0 = 0$ and $p(H_0) = 0$ leads to\n",
    "\n",
    "\\begin{align}\n",
    "p_0 &= \\rho g H_0\\\\\n",
    "\\Rightarrow p &= \\rho g (H_0 - z)\n",
    "\\end{align}"
   ]
  },
  {
   "cell_type": "code",
   "execution_count": null,
   "id": "9163cd15",
   "metadata": {},
   "outputs": [],
   "source": [
    "rho = 1.225 # constant density of the atmosphere"
   ]
  },
  {
   "cell_type": "code",
   "execution_count": null,
   "id": "fcb5cc03",
   "metadata": {},
   "outputs": [],
   "source": [
    "def p_r(z):\n",
    "    # calculates pressure at altitude z for the homogeneous atmosphere [hPa]\n",
    "    \n",
    "    return rho * g * (H0 - z) / 100"
   ]
  },
  {
   "cell_type": "code",
   "execution_count": null,
   "id": "b1200364",
   "metadata": {},
   "outputs": [],
   "source": [
    "z = np.arange(0,9000,10)\n",
    "\n",
    "plt.figure(figsize=(4,8))\n",
    "plt.plot(p_r(z),z)\n",
    "plt.xlabel('Pressure [hPa]')\n",
    "plt.xticks(np.arange(0,1200,200))\n",
    "plt.ylabel('Altitude [m]')\n",
    "plt.yticks(np.arange(0,9000,500))\n",
    "plt.grid()\n",
    "plt.title('pressure profile for the homogeneous atmosphere')\n",
    "plt.show()"
   ]
  }
 ],
 "metadata": {
  "kernelspec": {
   "display_name": "Python 3 (ipykernel)",
   "language": "python",
   "name": "python3"
  },
  "language_info": {
   "codemirror_mode": {
    "name": "ipython",
    "version": 3
   },
   "file_extension": ".py",
   "mimetype": "text/x-python",
   "name": "python",
   "nbconvert_exporter": "python",
   "pygments_lexer": "ipython3",
   "version": "3.9.11"
  }
 },
 "nbformat": 4,
 "nbformat_minor": 5
}
