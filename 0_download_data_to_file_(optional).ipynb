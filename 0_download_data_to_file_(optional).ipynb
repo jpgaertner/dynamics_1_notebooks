{
 "cells": [
  {
   "cell_type": "code",
   "execution_count": null,
   "id": "9cc7bee7",
   "metadata": {},
   "outputs": [],
   "source": [
    "import cdsapi\n",
    "c = cdsapi.Client()"
   ]
  },
  {
   "cell_type": "markdown",
   "id": "bc3d52e2",
   "metadata": {},
   "source": [
    "This routine can be used for downloading additional datasets. Other time periods and pressure levels can be chosen as well as different variables."
   ]
  },
  {
   "cell_type": "markdown",
   "id": "0db571a9",
   "metadata": {},
   "source": [
    "The available years and times are 1979 - 2022, and 00:00 - 23:00 in steps of 1 h, respectively. <br>\n",
    "For the time, also the hour before and after the time of interest is downloaded (used for derivatives). <br>\n",
    "The available pressure levels (in hPa) are 1000 - 750 in steps of 25, 750 - 250 in steps of 50, 250 - 100 in steps of 25, and 70, 50, 30, 20, 10, 7, 5 , 3, 2, 1.\n",
    "For a full list of all available variables see https://confluence.ecmwf.int/display/CKB/ERA5%3A+data+documentation#ERA5:datadocumentation-Parameterlistings"
   ]
  },
  {
   "cell_type": "code",
   "execution_count": null,
   "id": "f4aa150b",
   "metadata": {},
   "outputs": [],
   "source": [
    "year  = '2020'\n",
    "month = '01'\n",
    "day   = '01'\n",
    "time  = ['11:00','12:00','13:00']\n",
    "\n",
    "pressure_levels = ['50','200','400','600','700','800','900','1000',]\n",
    "\n",
    "variables = ['divergence', 'geopotential','temperature',\n",
    "            'u_component_of_wind','v_component_of_wind',\n",
    "            'vertical_velocity','vorticity','relative_humidity']"
   ]
  },
  {
   "cell_type": "code",
   "execution_count": null,
   "id": "79f8f9bd",
   "metadata": {},
   "outputs": [],
   "source": [
    "def pressure_levels_hourly():\n",
    "    '''downloads the variables at the pressure levels\n",
    "    at a given day and time\n",
    "    '''\n",
    "    \n",
    "    c.retrieve(\n",
    "    'reanalysis-era5-pressure-levels',\n",
    "    {\n",
    "        'product_type': 'reanalysis',\n",
    "        'format': 'netcdf',\n",
    "        'variable': variables,\n",
    "        'pressure_level': pressure_levels,\n",
    "        'year': year,\n",
    "        'month': month,\n",
    "        'day': day,\n",
    "        'time': time,\n",
    "        'grid': [1.0,1.0],\n",
    "    },\n",
    "    # name of the file the data is saved in, feel free to change\n",
    "    f'{year}_{month}_{day}_hourly.nc')\n",
    "\n",
    "def surf_press_hourly():\n",
    "    '''downloads the surface pressure (used for orography)\n",
    "    '''\n",
    "    c.retrieve(\n",
    "    'reanalysis-era5-single-levels',\n",
    "    {\n",
    "        'product_type': 'reanalysis',\n",
    "        'format': 'netcdf',\n",
    "        'variable': 'surface_pressure',\n",
    "        'year': year,\n",
    "        'month': month,\n",
    "        'day': day,\n",
    "        'time': time,\n",
    "        'grid': [1.0,1.0],\n",
    "    },\n",
    "    f'{year}_{month}_{day}_hourly_surf.nc')\n",
    "\n",
    "def pressure_levels_monthly():\n",
    "    '''downloads the monthly mean of the variables\n",
    "    at the pressure levels\n",
    "    '''\n",
    "    \n",
    "    c.retrieve(\n",
    "    'reanalysis-era5-pressure-levels-monthly-means',\n",
    "    {\n",
    "        'product_type': 'monthly_averaged_reanalysis',\n",
    "        'format': 'netcdf',\n",
    "        'variable': variables,\n",
    "        'pressure_level': pressure_levels,\n",
    "        'year': year,\n",
    "        'month': month,\n",
    "        'time': '00:00'\n",
    "    },\n",
    "    f'{year}_{months}_monthly.nc')\n",
    "    \n",
    "def surf_press_monthly():\n",
    "    '''downloads the monthly meansurface pressure\n",
    "    (used for orography)\n",
    "    '''\n",
    "    c.retrieve(\n",
    "    'reanalysis-era5-single-levels-monthly-means',\n",
    "    {\n",
    "        'product_type': 'monthly_averaged_reanalysis',\n",
    "        'format': 'netcdf',\n",
    "        'variable': 'surface_pressure',\n",
    "        'year': year,\n",
    "        'month': month,\n",
    "        'time': '00:00'\n",
    "    },\n",
    "    f'{year}_{months}_monthly_surf.nc')"
   ]
  },
  {
   "cell_type": "code",
   "execution_count": null,
   "id": "4d8cd9e9",
   "metadata": {
    "scrolled": false
   },
   "outputs": [],
   "source": [
    "# download data at a specific time\n",
    "pressure_levels_hourly()"
   ]
  },
  {
   "cell_type": "code",
   "execution_count": null,
   "id": "6cbbf64d",
   "metadata": {},
   "outputs": [],
   "source": [
    "# make sure to also run this funcion\n",
    "surf_press_hourly()"
   ]
  },
  {
   "cell_type": "code",
   "execution_count": null,
   "id": "22efa109",
   "metadata": {
    "scrolled": false
   },
   "outputs": [],
   "source": [
    "# download monthly mean data\n",
    "#pressure_levels_monthly()"
   ]
  },
  {
   "cell_type": "code",
   "execution_count": null,
   "id": "c4e887f6",
   "metadata": {},
   "outputs": [],
   "source": [
    "#surf_press_monthly()"
   ]
  }
 ],
 "metadata": {
  "kernelspec": {
   "display_name": "Python 3 (ipykernel)",
   "language": "python",
   "name": "python3"
  },
  "language_info": {
   "codemirror_mode": {
    "name": "ipython",
    "version": 3
   },
   "file_extension": ".py",
   "mimetype": "text/x-python",
   "name": "python",
   "nbconvert_exporter": "python",
   "pygments_lexer": "ipython3",
   "version": "3.9.11"
  }
 },
 "nbformat": 4,
 "nbformat_minor": 5
}
