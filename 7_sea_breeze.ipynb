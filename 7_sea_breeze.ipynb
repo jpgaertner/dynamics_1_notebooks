{
 "cells": [
  {
   "cell_type": "code",
   "execution_count": null,
   "id": "90d7583d",
   "metadata": {},
   "outputs": [],
   "source": [
    "import numpy as np\n",
    "import matplotlib.pyplot\n",
    "from IPython import display"
   ]
  },
  {
   "cell_type": "markdown",
   "id": "d6eea344",
   "metadata": {},
   "source": [
    "# Sea Breeze"
   ]
  },
  {
   "cell_type": "code",
   "execution_count": null,
   "id": "7a3081d3",
   "metadata": {},
   "outputs": [],
   "source": [
    "display.Image(\"./sea_breeze.jpeg\",width=500)"
   ]
  },
  {
   "cell_type": "markdown",
   "id": "b745f105",
   "metadata": {},
   "source": [
    "The change in absolute circulation (i.e. Coriolis force, also neglecting friction) in time is\n",
    "\n",
    "\\begin{align}\n",
    "\\dfrac{d C_a}{d t} &= - \\oint_\\Gamma \\dfrac{d p}{\\rho} = - \\oint_\\Gamma R T dp\\\\\n",
    "&= R T_1 ln\\left(\\dfrac{p_1}{p_0}\\right) - R T_0 ln\\left(\\dfrac{p_0}{p_1}\\right)\\\\\n",
    "&= R ln\\left(\\dfrac{p_0}{p_1}\\right) (T_1 - T_0)\n",
    "\\end{align}\n",
    "\n",
    "The change in mean tangential velocity in time is\n",
    "\n",
    "\\begin{align}\n",
    "\\dfrac{d \\bar{v}}{d t} = \\dfrac{1}{2(h + L)} \\dfrac{d C_a}{d t}\n",
    "\\end{align}\n",
    "\n",
    "### Change the variables in the cell below to see how the sea breeze (more specifically the change of the sea breaze) changes"
   ]
  },
  {
   "cell_type": "code",
   "execution_count": null,
   "id": "3d33ba53",
   "metadata": {},
   "outputs": [],
   "source": [
    "R = 8.314 / 28.9647e-3 # specific gas constant [J/K mol]\n",
    "p0 = 1000 # pressure at lower end of the box [hPa]\n",
    "p1 = 900 # pressure at upper end of the box [hPa]\n",
    "T0 = 20 # temperature over ocean [°C]\n",
    "T1 = 30 # temperature over land [°C]\n",
    "h = 1000 # height of the box [m]\n",
    "L = 20000 # length of the box [m]"
   ]
  },
  {
   "cell_type": "code",
   "execution_count": null,
   "id": "c999c3f8",
   "metadata": {},
   "outputs": [],
   "source": [
    "dv = 1 / (2 * (h + L)) * R * np.log(p0/p1) * (T1 - T0) * 3600\n",
    "print(f'dv/dt = {np.round(dv,1)} m/s /h')"
   ]
  },
  {
   "cell_type": "code",
   "execution_count": null,
   "id": "0cf57f69",
   "metadata": {},
   "outputs": [],
   "source": []
  }
 ],
 "metadata": {
  "kernelspec": {
   "display_name": "Python 3 (ipykernel)",
   "language": "python",
   "name": "python3"
  },
  "language_info": {
   "codemirror_mode": {
    "name": "ipython",
    "version": 3
   },
   "file_extension": ".py",
   "mimetype": "text/x-python",
   "name": "python",
   "nbconvert_exporter": "python",
   "pygments_lexer": "ipython3",
   "version": "3.9.11"
  }
 },
 "nbformat": 4,
 "nbformat_minor": 5
}
