{
 "cells": [
  {
   "cell_type": "code",
   "execution_count": null,
   "id": "f9ab559b",
   "metadata": {},
   "outputs": [],
   "source": [
    "import xarray as xr\n",
    "import matplotlib.pyplot as plt\n",
    "import cartopy.crs as ccrs\n",
    "import cartopy.feature as cf\n",
    "import numpy as np"
   ]
  },
  {
   "cell_type": "code",
   "execution_count": null,
   "id": "bb36c6f4",
   "metadata": {},
   "outputs": [],
   "source": [
    "# import fields and geostrophic wind\n",
    "\n",
    "%store -r fields\n",
    "[uWind,vWind,wWind,temp,geop,div,vort,geop_height] = fields\n",
    "\n",
    "%store -r grid\n",
    "[lon,lat,pressure_levels] = grid\n",
    "\n",
    "%store -r uWindG\n",
    "%store -r vWindG"
   ]
  },
  {
   "cell_type": "markdown",
   "id": "64011f69",
   "metadata": {},
   "source": [
    "The thermal wind is calculated according to\n",
    "\\begin{align}\n",
    "\\vec{v}_t(p_i) = \\vec{v}_g(p_i) - \\vec{v}_g(p_{i-1})\n",
    "\\end{align}"
   ]
  },
  {
   "cell_type": "code",
   "execution_count": null,
   "id": "018e5fa8",
   "metadata": {},
   "outputs": [],
   "source": [
    "uWindT = np.zeros_like(uWindG)\n",
    "vWindT = np.zeros_like(uWindT)\n",
    "for p in range(1,len(pressure_levels)):\n",
    "    uWindT[p,:,:] = uWindG[p,:,:] - uWindG[p-1,:,:]\n",
    "    vWindT[p,:,:] = vWindG[p,:,:] - vWindG[p-1,:,:]"
   ]
  },
  {
   "cell_type": "code",
   "execution_count": null,
   "id": "fdaf8764",
   "metadata": {},
   "outputs": [],
   "source": [
    "def therm_wind(field,N=90,S=90,W=0,E=360,pressure_level=-2,spacing=5):\n",
    "    '''this function plots field with an areal extend of [N,S,W,E] at pressure_level\n",
    "       with the thermal wind displayed as arrows.\n",
    "       W is given in degrees east and has to be smaller than E,\n",
    "       also no negative values are allowed.\n",
    "       spacing is the space inbetween arrows in degrees.\n",
    "       the geopotential height is displayed as contour lines (in m).\n",
    "    '''\n",
    "    \n",
    "    N = 90-N\n",
    "    S = 90+S\n",
    "\n",
    "    fig, ax = plt.subplots(figsize=(15,8), subplot_kw={'projection': ccrs.PlateCarree()})\n",
    "    im = ax.contourf(lon[W:E], lat[N:S], field[1,pressure_level,N:S,W:E],\n",
    "                        cmap='viridis', levels=20)\n",
    "    \n",
    "    im2 = ax.contour(lon[W:E], lat[N:S], geop_height[1,pressure_level,N:S,W:E])\n",
    "    ax.clabel(im2, im2.levels, inline=True,colors='k')\n",
    "\n",
    "    Q2 = ax.quiver(lon[W:E][::spacing], lat[N:S][::spacing],\n",
    "                  uWindT[pressure_level,N:S,W:E][::spacing,::spacing],\n",
    "                  vWindT[pressure_level,N:S,W:E][::spacing,::spacing])\n",
    "    Qk2 = ax.quiverkey(Q2, 0.5,-0.15,np.nanmax(uWindT[pressure_level,N:S,W:E][::spacing,::spacing]),\n",
    "                       label=\"{:.0f}\".format(np.nanmax(uWindT[pressure_level,N:S,W:E][::spacing,::spacing])) + 'm/s thermal wind velocity',\n",
    "                       labelpos = 'E')\n",
    "\n",
    "    ax.add_feature(cf.COASTLINE)\n",
    "    ax.add_feature(cf.BORDERS)\n",
    "    ax.set_xticks([0],[0])\n",
    "    ax.set_yticks([0],[0])\n",
    "\n",
    "    fig.colorbar(im, orientation='horizontal', fraction=0.039*len(lon)/len(lat), label=f\"{field.long_name} [{field.units}]\")\n",
    "    ax.set_title(f\"{field.long_name} at p = {pressure_levels[pressure_level]} hPa\", fontsize=20)\n",
    "    fig.tight_layout()"
   ]
  },
  {
   "cell_type": "markdown",
   "id": "f68f349e",
   "metadata": {},
   "source": [
    "### Use the function to display the thermal wind in different regions and at different altitudes"
   ]
  },
  {
   "cell_type": "code",
   "execution_count": null,
   "id": "06324b99",
   "metadata": {},
   "outputs": [],
   "source": [
    "pressure_levels # in hPa"
   ]
  },
  {
   "cell_type": "code",
   "execution_count": null,
   "id": "1d6ad025",
   "metadata": {},
   "outputs": [],
   "source": [
    "therm_wind(temp,pressure_level=-3,spacing=7)"
   ]
  },
  {
   "cell_type": "code",
   "execution_count": null,
   "id": "eb237c12",
   "metadata": {},
   "outputs": [],
   "source": [
    "therm_wind(temp,N=80,S=0,W=270,E=360,pressure_level=-3,spacing=2)"
   ]
  },
  {
   "cell_type": "code",
   "execution_count": null,
   "id": "ce00c4fd",
   "metadata": {},
   "outputs": [],
   "source": []
  }
 ],
 "metadata": {
  "kernelspec": {
   "display_name": "Python 3 (ipykernel)",
   "language": "python",
   "name": "python3"
  },
  "language_info": {
   "codemirror_mode": {
    "name": "ipython",
    "version": 3
   },
   "file_extension": ".py",
   "mimetype": "text/x-python",
   "name": "python",
   "nbconvert_exporter": "python",
   "pygments_lexer": "ipython3",
   "version": "3.9.11"
  }
 },
 "nbformat": 4,
 "nbformat_minor": 5
}
