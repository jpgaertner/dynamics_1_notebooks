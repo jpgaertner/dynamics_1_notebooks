{
 "cells": [
  {
   "cell_type": "code",
   "execution_count": null,
   "id": "f9ab559b",
   "metadata": {},
   "outputs": [],
   "source": [
    "import xarray as xr\n",
    "import matplotlib.pyplot as plt\n",
    "import cartopy.crs as ccrs\n",
    "import cartopy.feature as cf\n",
    "import numpy as np"
   ]
  },
  {
   "cell_type": "code",
   "execution_count": null,
   "id": "bb36c6f4",
   "metadata": {},
   "outputs": [],
   "source": [
    "# import fields and geostrophic wind\n",
    "\n",
    "%store -r fields\n",
    "[uWind,vWind,wWind,temp,geop,div,vort,geop_height] = fields\n",
    "\n",
    "%store -r grid\n",
    "[lon,lat,pressure_levels] = grid\n",
    "\n",
    "%store -r uWindG\n",
    "%store -r vWindG"
   ]
  },
  {
   "cell_type": "markdown",
   "id": "64011f69",
   "metadata": {},
   "source": [
    "The thermal wind is calculated according to\n",
    "\\begin{align}\n",
    "\\vec{v}_t(p_i) = \\vec{v}_g(p_i) - \\vec{v}_g(800hPa)\n",
    "\\end{align}"
   ]
  },
  {
   "cell_type": "markdown",
   "id": "d431d780",
   "metadata": {},
   "source": [
    "You can adjust the cell below (optional). The pressure index of the reference geostrophic wind in the calculation is 5 because pressure_levels[5] = 800hPa. Therefore all thermal wind velocities are calculated in reference to the 800hPa level. You can change that and calculate the thermal wind in reference to another pressure level.\n",
    "\n",
    "Pay attention to this if you choose to download and use your own datasets."
   ]
  },
  {
   "cell_type": "code",
   "execution_count": null,
   "id": "018e5fa8",
   "metadata": {},
   "outputs": [],
   "source": [
    "uWindT = np.zeros_like(uWindG)\n",
    "vWindT = np.zeros_like(uWindT)\n",
    "for p in range(1,len(pressure_levels)):\n",
    "    uWindT[p,:,:] = uWindG[p,:,:] - uWindG[5,:,:]\n",
    "    vWindT[p,:,:] = vWindG[p,:,:] - vWindG[5,:,:]"
   ]
  },
  {
   "cell_type": "code",
   "execution_count": null,
   "id": "a4d0c22d",
   "metadata": {},
   "outputs": [],
   "source": [
    "def plot_wind(field,N=90,S=90,W=0,E=360,pressure_level=0,spacing=5,vmin=None,vmax=None):\n",
    "    '''this function plots field with an areal extend of [N,S,W,E] at pressure_level\n",
    "       with the wind field displayed as arrows.\n",
    "       W is given in degrees east and has to be smaller than E,\n",
    "       also no negative values are allowed.\n",
    "       spacing is the space inbetween arrows in degrees.\n",
    "       the geopotential height is displayed as contour lines.\n",
    "       vmin and vmax are mainly thought to be used for divergence and vorticity\n",
    "       of the wind field and can be ignored for other fields.\n",
    "       the geopotential height is displayed as contour lines (in m).\n",
    "    '''\n",
    "    N = 90-N\n",
    "    S = 90+S\n",
    "    \n",
    "    fig, ax = plt.subplots(figsize=(15,8), subplot_kw={'projection': ccrs.PlateCarree()})\n",
    "    im = ax.contourf(lon[W:E], lat[N:S], field[1,pressure_level,N:S,W:E],\n",
    "                    cmap='viridis', levels=50, vmin=vmin, vmax=vmax)\n",
    "    \n",
    "    im2 = ax.contour(lon[W:E], lat[N:S], geop_height[1,pressure_level,N:S,W:E])\n",
    "    ax.clabel(im2, im2.levels, inline=True,colors='k')\n",
    "    \n",
    "    Q = ax.quiver(lon[W:E][::spacing], lat[N:S][::spacing],\n",
    "                uWind[1,pressure_level,N:S,W:E][::spacing,::spacing],\n",
    "                vWind[1,pressure_level,N:S,W:E][::spacing,::spacing])\n",
    "    Qk = ax.quiverkey(Q,0.5,-0.1,np.nanmax(uWind[1,pressure_level,N:S,W:E][::spacing,::spacing]),\n",
    "            label=\"{:.0f}\".format(np.array(np.nanmax(uWind[1,pressure_level,N:S,W:E][::spacing,::spacing]))) + \" m/s wind velocity\",\n",
    "            labelpos = 'E')\n",
    "    ax.add_feature(cf.COASTLINE)\n",
    "    ax.add_feature(cf.BORDERS)\n",
    "    ax.set_xticks([0],[0])\n",
    "    ax.set_yticks([0],[0])\n",
    "\n",
    "    fig.colorbar(im, orientation='horizontal', fraction=0.039*len(lon)/len(lat),label=f\"{field.long_name} [{field.units}]\")\n",
    "    ax.set_title(f\"{field.long_name} at pressure level {pressure_levels[pressure_level]} hPa\", fontsize=15)\n",
    "    fig.tight_layout()"
   ]
  },
  {
   "cell_type": "code",
   "execution_count": null,
   "id": "fdaf8764",
   "metadata": {},
   "outputs": [],
   "source": [
    "def therm_wind(field,N=90,S=90,W=0,E=360,pressure_level=-2,spacing=5):\n",
    "    '''this function plots field with an areal extend of [N,S,W,E] at pressure_level\n",
    "       with the thermal wind displayed as arrows.\n",
    "       W is given in degrees east and has to be smaller than E,\n",
    "       also no negative values are allowed.\n",
    "       spacing is the space inbetween arrows in degrees.\n",
    "       the geopotential height is displayed as contour lines (in m).\n",
    "    '''\n",
    "    \n",
    "    N = 90-N\n",
    "    S = 90+S\n",
    "\n",
    "    fig, ax = plt.subplots(figsize=(15,8), subplot_kw={'projection': ccrs.PlateCarree()})\n",
    "    im = ax.contourf(lon[W:E], lat[N:S], field[1,pressure_level,N:S,W:E],\n",
    "                        cmap='viridis', levels=20)\n",
    "    \n",
    "    im2 = ax.contour(lon[W:E], lat[N:S], geop_height[1,pressure_level,N:S,W:E])\n",
    "    ax.clabel(im2, im2.levels, inline=True,colors='k')\n",
    "\n",
    "    Q2 = ax.quiver(lon[W:E][::spacing], lat[N:S][::spacing],\n",
    "                  uWindT[pressure_level,N:S,W:E][::spacing,::spacing],\n",
    "                  vWindT[pressure_level,N:S,W:E][::spacing,::spacing])\n",
    "    Qk2 = ax.quiverkey(Q2, 0.5,-0.15,np.nanmax(uWindT[pressure_level,N:S,W:E][::spacing,::spacing]),\n",
    "                       label=\"{:.0f}\".format(np.nanmax(uWindT[pressure_level,N:S,W:E][::spacing,::spacing])) + 'm/s thermal wind velocity',\n",
    "                       labelpos = 'E')\n",
    "\n",
    "    ax.add_feature(cf.COASTLINE)\n",
    "    ax.add_feature(cf.BORDERS)\n",
    "    ax.set_xticks([0],[0])\n",
    "    ax.set_yticks([0],[0])\n",
    "\n",
    "    fig.colorbar(im, orientation='horizontal', fraction=0.039*len(lon)/len(lat), label=f\"{field.long_name} [{field.units}]\")\n",
    "    ax.set_title(f\"{field.long_name} at p = {pressure_levels[pressure_level]} hPa\", fontsize=20)\n",
    "    fig.tight_layout()"
   ]
  },
  {
   "cell_type": "markdown",
   "id": "f68f349e",
   "metadata": {},
   "source": [
    "### Use the function term_wind to display the thermal wind in different regions and at different altitudes\n",
    "\n",
    "You can also use the function plot_wind to just display the wind vectors for comparison\n",
    "\n",
    "The thermal wind velocities are all calculated relative to the 800hPa level"
   ]
  },
  {
   "cell_type": "code",
   "execution_count": null,
   "id": "06324b99",
   "metadata": {},
   "outputs": [],
   "source": [
    "pressure_levels # in hPa"
   ]
  },
  {
   "cell_type": "code",
   "execution_count": null,
   "id": "029b1c58",
   "metadata": {},
   "outputs": [],
   "source": [
    "plot_wind(temp,N=10,S=80,W=280,E=360,pressure_level=5,spacing=4)"
   ]
  },
  {
   "cell_type": "code",
   "execution_count": null,
   "id": "1d6ad025",
   "metadata": {},
   "outputs": [],
   "source": [
    "plot_wind(temp,N=10,S=80,W=280,E=360,pressure_level=4,spacing=4)"
   ]
  },
  {
   "cell_type": "code",
   "execution_count": null,
   "id": "eb237c12",
   "metadata": {},
   "outputs": [],
   "source": [
    "therm_wind(temp,N=10,S=80,W=280,E=360,pressure_level=4,spacing=4)"
   ]
  },
  {
   "cell_type": "code",
   "execution_count": null,
   "id": "ce00c4fd",
   "metadata": {},
   "outputs": [],
   "source": []
  }
 ],
 "metadata": {
  "kernelspec": {
   "display_name": "Python 3 (ipykernel)",
   "language": "python",
   "name": "python3"
  },
  "language_info": {
   "codemirror_mode": {
    "name": "ipython",
    "version": 3
   },
   "file_extension": ".py",
   "mimetype": "text/x-python",
   "name": "python",
   "nbconvert_exporter": "python",
   "pygments_lexer": "ipython3",
   "version": "3.9.11"
  }
 },
 "nbformat": 4,
 "nbformat_minor": 5
}
